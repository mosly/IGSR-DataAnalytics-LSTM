{
  "cells": [
    {
      "cell_type": "markdown",
      "metadata": {
        "id": "view-in-github",
        "colab_type": "text"
      },
      "source": [
        "<a href=\"https://colab.research.google.com/github/mosly/IGSR-DataAnalytics-LSTM/blob/master/Amzon_LSTM.ipynb\" target=\"_parent\"><img src=\"https://colab.research.google.com/assets/colab-badge.svg\" alt=\"Open In Colab\"/></a>"
      ]
    },
    {
      "cell_type": "code",
      "execution_count": 1,
      "metadata": {
        "id": "4jT-uy0fTN1u"
      },
      "outputs": [],
      "source": [
        "import pandas as pd\n",
        "import numpy as np\n",
        "from sklearn.model_selection import train_test_split\n",
        "from sklearn.preprocessing import LabelEncoder\n",
        "from sklearn.metrics import accuracy_score, classification_report\n",
        "from keras.models import Sequential\n",
        "from keras.layers import Embedding, LSTM, Dense\n",
        "import tensorflow as tf\n",
        "from tensorflow.keras.preprocessing.text import Tokenizer\n",
        "from keras.preprocessing.sequence import pad_sequences\n",
        "from google.colab import drive\n",
        "import tensorflow as tf\n",
        "import matplotlib.pyplot as plt\n",
        "import nltk\n",
        "nltk.download('vader_lexicon')"
      ]
    },
    {
      "cell_type": "code",
      "execution_count": 2,
      "metadata": {
        "colab": {
          "base_uri": "https://localhost:8080/"
        },
        "id": "6exrwZLyTfgw",
        "outputId": "10b72ead-733f-4520-f53a-1a4fd4efbb3c"
      },
      "outputs": [
        {
          "output_type": "stream",
          "name": "stdout",
          "text": [
            "Found GPU at: /device:GPU:0\n"
          ]
        }
      ],
      "source": [
        "device_name = tf.test.gpu_device_name()\n",
        "if len(device_name) > 0:\n",
        "    print(\"Found GPU at: {}\".format(device_name))\n",
        "else:\n",
        "    device_name = \"/device:CPU:0\"\n",
        "    print(\"No GPU, using {}.\".format(device_name))"
      ]
    },
    {
      "cell_type": "code",
      "execution_count": 3,
      "metadata": {
        "colab": {
          "base_uri": "https://localhost:8080/"
        },
        "id": "IEYf8YqdTjij",
        "outputId": "d9e5626d-91e4-4b38-a65e-7476edd03891"
      },
      "outputs": [
        {
          "output_type": "stream",
          "name": "stdout",
          "text": [
            "Mounted at /content/drive\n"
          ]
        }
      ],
      "source": [
        "drive.mount('/content/drive')\n",
        "\n",
        "# Load the dataset\n",
        "df = pd.read_csv(\"/content/drive/My Drive/Amazon-Product.csv\")\n",
        "\n",
        "# Preprocess the data\n",
        "X = df['review_body'].astype(str)\n",
        "y = df['sentiment']"
      ]
    },
    {
      "cell_type": "code",
      "execution_count": 4,
      "metadata": {
        "colab": {
          "base_uri": "https://localhost:8080/"
        },
        "id": "oNvoM6e5et3K",
        "outputId": "862bcea2-21e7-434b-8e2a-ebffee821d55"
      },
      "outputs": [
        {
          "output_type": "stream",
          "name": "stdout",
          "text": [
            "Length of X: 30846\n",
            "Length of y: 30846\n"
          ]
        }
      ],
      "source": [
        "print(\"Length of X:\", len(X))\n",
        "print(\"Length of y:\", len(y))\n"
      ]
    },
    {
      "cell_type": "code",
      "execution_count": 5,
      "metadata": {
        "colab": {
          "base_uri": "https://localhost:8080/",
          "height": 428
        },
        "id": "Ho2ZLWZxXKUS",
        "outputId": "6f55e66c-f403-420c-c111-f86a066e9a69"
      },
      "outputs": [
        {
          "output_type": "display_data",
          "data": {
            "text/plain": [
              "<Figure size 640x480 with 1 Axes>"
            ],
            "image/png": "[encoded data removed]"
          },
          "metadata": {}
        }
      ],
      "source": [
        "\n",
        "\n",
        "\n",
        "# Generate some example data\n",
        "np.random.seed(0)\n",
        "p = np.random.choice([-1, 1], size=100)  # Random positive and negative labels\n",
        "\n",
        "# Count the occurrences of positive and negative labels\n",
        "positive_count = np.sum(p == 1)\n",
        "negative_count = np.sum(p == -1)\n",
        "\n",
        "# Create labels and counts for the pie chart\n",
        "labels = ['Positive', 'Negative']\n",
        "sizes = [positive_count, negative_count]\n",
        "\n",
        "# Plot the pie chart\n",
        "plt.pie(sizes, labels=labels, autopct='%1.1f%%', startangle=90, colors=['skyblue', 'salmon'])\n",
        "\n",
        "# Equal aspect ratio ensures that pie is drawn as a circle\n",
        "plt.axis('equal')\n",
        "\n",
        "# Add a title\n",
        "plt.title('Label Percentage of Positive and Negative Labels')\n",
        "\n",
        "# Show plot\n",
        "plt.show()\n"
      ]
    },
    {
      "cell_type": "code",
      "execution_count": 6,
      "metadata": {
        "id": "lz3y5Wo4T30j"
      },
      "outputs": [],
      "source": [
        "# Encode the target variable\n",
        "label_encoder = LabelEncoder()\n",
        "y_encoded = label_encoder.fit_transform(y)\n",
        "\n",
        "# Tokenize the text data\n",
        "tokenizer = Tokenizer()\n",
        "tokenizer.fit_on_texts(X)\n",
        "X_sequences = tokenizer.texts_to_sequences(X)\n",
        "\n",
        "# Pad sequences to ensure uniform length\n",
        "max_sequence_length = max([len(seq) for seq in X_sequences])\n",
        "X_pad = pad_sequences(X_sequences, maxlen=max_sequence_length)\n",
        "\n",
        "\n",
        "\n",
        "# Split the data into training and testing sets\n",
        "X_train, X_test, y_train, y_test = train_test_split(X_pad, y_encoded, test_size=0.2, random_state=42)"
      ]
    },
    {
      "cell_type": "code",
      "execution_count": 7,
      "metadata": {
        "id": "Ndcb-whlUCUN"
      },
      "outputs": [],
      "source": [
        "# Define the model\n",
        "model = Sequential()\n",
        "model.add(Embedding(input_dim=len(tokenizer.word_index)+1, output_dim=100))\n",
        "model.add(LSTM(100, dropout=0.2, recurrent_dropout=0))\n",
        "model.add(Dense(3, activation='softmax'))  # 3 output neurons for Positive, Negative, Neutral\n"
      ]
    },
    {
      "cell_type": "code",
      "execution_count": 8,
      "metadata": {
        "id": "9WF7s1NBUEnE"
      },
      "outputs": [],
      "source": [
        "\n",
        "# Compile the model\n",
        "model.compile(loss='binary_crossentropy', optimizer='adam', metrics=['accuracy'])"
      ]
    },
    {
      "cell_type": "code",
      "execution_count": 9,
      "metadata": {
        "colab": {
          "base_uri": "https://localhost:8080/"
        },
        "id": "KdSSwYFJUH-6",
        "outputId": "1a267749-e1cd-45c1-91e8-b748b941bad1"
      },
      "outputs": [
        {
          "output_type": "stream",
          "name": "stdout",
          "text": [
            "Epoch 1/7\n",
            "386/386 [==============================] - 90s 220ms/step - loss: 0.3025 - accuracy: 0.8740 - val_loss: 0.2483 - val_accuracy: 0.8977\n",
            "Epoch 2/7\n",
            "386/386 [==============================] - 63s 164ms/step - loss: 0.2012 - accuracy: 0.9214 - val_loss: 0.2190 - val_accuracy: 0.9107\n",
            "Epoch 3/7\n",
            "386/386 [==============================] - 51s 132ms/step - loss: 0.1651 - accuracy: 0.9398 - val_loss: 0.2243 - val_accuracy: 0.9094\n",
            "Epoch 4/7\n",
            "386/386 [==============================] - 44s 114ms/step - loss: 0.1405 - accuracy: 0.9493 - val_loss: 0.2338 - val_accuracy: 0.9115\n",
            "Epoch 5/7\n",
            "386/386 [==============================] - 46s 119ms/step - loss: 0.1220 - accuracy: 0.9577 - val_loss: 0.2706 - val_accuracy: 0.9053\n",
            "Epoch 6/7\n",
            "386/386 [==============================] - 43s 110ms/step - loss: 0.1032 - accuracy: 0.9642 - val_loss: 0.2910 - val_accuracy: 0.9032\n",
            "Epoch 7/7\n",
            "386/386 [==============================] - 44s 114ms/step - loss: 0.0852 - accuracy: 0.9725 - val_loss: 0.3093 - val_accuracy: 0.9011\n"
          ]
        },
        {
          "output_type": "execute_result",
          "data": {
            "text/plain": [
              "<keras.src.callbacks.History at 0x78508839a620>"
            ]
          },
          "metadata": {},
          "execution_count": 9
        }
      ],
      "source": [
        "\n",
        "# Train the model\n",
        "\n",
        "model.fit(X_train, y_train, epochs=5, batch_size=64, validation_data=(X_test, y_test))"
      ]
    },
    {
      "cell_type": "code",
      "execution_count": 10,
      "metadata": {
        "id": "eRD2kJH4Vx2W",
        "colab": {
          "base_uri": "https://localhost:8080/"
        },
        "outputId": "c33146ff-1c9f-4085-ccad-5c4cae78646c"
      },
      "outputs": [
        {
          "output_type": "stream",
          "name": "stdout",
          "text": [
            "193/193 [==============================] - 6s 31ms/step - loss: 0.3093 - accuracy: 0.9011\n"
          ]
        }
      ],
      "source": [
        "# Evaluate the model\n",
        "loss, accuracy = model.evaluate(X_test, y_test)"
      ]
    },
    {
      "cell_type": "code",
      "execution_count": 11,
      "metadata": {
        "id": "jGRVONNtVb5l",
        "colab": {
          "base_uri": "https://localhost:8080/"
        },
        "outputId": "ece8d801-5423-48b4-9a61-a78ca86101da"
      },
      "outputs": [
        {
          "output_type": "stream",
          "name": "stdout",
          "text": [
            "1/1 [==============================] - 0s 428ms/step\n",
            "Text: the battery goes dead more quickly than you'd expect --> Sentiment: Negative\n",
            "Text: Would definately recommend Fire HD --> Sentiment: Positive\n",
            "Text: the product is netural --> Sentiment: Negative\n"
          ]
        }
      ],
      "source": [
        "\n",
        "# New text data for prediction\n",
        "new_texts = [\"the battery goes dead more quickly than you'd expect\", \"Would definately Fire HD\", \"I love this Product\"]\n",
        "\n",
        "# Tokenize and pad the new text data\n",
        "new_sequences = tokenizer.texts_to_sequences(new_texts)\n",
        "new_padded_sequences = pad_sequences(new_sequences, maxlen=max_sequence_length)\n",
        "\n",
        "# Make predictions\n",
        "predictions = model.predict(new_padded_sequences)\n",
        "\n",
        "# Convert predictions to sentiment labels\n",
        "sentiment_labels = ['Positive', 'Negative', 'Neutral']\n",
        "predicted_labels = [sentiment_labels[np.argmax(pred)] for pred in predictions]\n",
        "\n",
        "# Initialize VADER sentiment analyzer\n",
        "sid = SentimentIntensityAnalyzer()\n",
        "\n",
        "# Perform sentiment analysis using VADER\n",
        "vader_sentiments = [sid.polarity_scores(text) for text in new_texts]\n",
        "\n",
        "# Print predictions\n",
        "for i, (text, label) in enumerate(zip(new_texts, predicted_labels)):\n",
        "    vader_label = 'Positive' if vader_sentiments[i]['compound'] >= 0.05 else 'Negative' if vader_sentiments[i]['compound'] <= -0.05 else 'Neutral'\n",
        "    print(f'Sentiment (VADER): {vader_label}')\n",
        "\n"
      ]
    }
  ],
  "metadata": {
    "accelerator": "GPU",
    "colab": {
      "gpuType": "T4",
      "provenance": [],
      "include_colab_link": true
    },
    "kernelspec": {
      "display_name": "Python 3",
      "name": "python3"
    },
    "language_info": {
      "name": "python"
    }
  },
  "nbformat": 4,
  "nbformat_minor": 0
}